{
  "nbformat": 4,
  "nbformat_minor": 0,
  "metadata": {
    "colab": {
      "name": "PDFjoin.ipynb",
      "provenance": [],
      "authorship_tag": "ABX9TyNRNQB0d6mNwLpbEF3ttOmc"
    },
    "kernelspec": {
      "name": "python3",
      "display_name": "Python 3"
    }
  },
  "cells": [
    {
      "cell_type": "code",
      "metadata": {
        "id": "wIIL-3QwXtjZ",
        "colab_type": "code",
        "colab": {
          "base_uri": "https://localhost:8080/",
          "height": 207
        },
        "outputId": "26e15f8d-29da-45c6-8a41-302d5e483d31"
      },
      "source": [
        "!pip install PyPDF2"
      ],
      "execution_count": 6,
      "outputs": [
        {
          "output_type": "stream",
          "text": [
            "Collecting PyPDF2\n",
            "\u001b[?25l  Downloading https://files.pythonhosted.org/packages/b4/01/68fcc0d43daf4c6bdbc6b33cc3f77bda531c86b174cac56ef0ffdb96faab/PyPDF2-1.26.0.tar.gz (77kB)\n",
            "\r\u001b[K     |████▎                           | 10kB 17.3MB/s eta 0:00:01\r\u001b[K     |████████▌                       | 20kB 1.7MB/s eta 0:00:01\r\u001b[K     |████████████▊                   | 30kB 2.1MB/s eta 0:00:01\r\u001b[K     |█████████████████               | 40kB 2.4MB/s eta 0:00:01\r\u001b[K     |█████████████████████▏          | 51kB 2.0MB/s eta 0:00:01\r\u001b[K     |█████████████████████████▍      | 61kB 2.3MB/s eta 0:00:01\r\u001b[K     |█████████████████████████████▋  | 71kB 2.5MB/s eta 0:00:01\r\u001b[K     |████████████████████████████████| 81kB 2.2MB/s \n",
            "\u001b[?25hBuilding wheels for collected packages: PyPDF2\n",
            "  Building wheel for PyPDF2 (setup.py) ... \u001b[?25l\u001b[?25hdone\n",
            "  Created wheel for PyPDF2: filename=PyPDF2-1.26.0-cp36-none-any.whl size=61086 sha256=c705605c0037a50e5cec78e1b6b175df693179347d09ba6ef7aabc31a22e1410\n",
            "  Stored in directory: /root/.cache/pip/wheels/53/84/19/35bc977c8bf5f0c23a8a011aa958acd4da4bbd7a229315c1b7\n",
            "Successfully built PyPDF2\n",
            "Installing collected packages: PyPDF2\n",
            "Successfully installed PyPDF2-1.26.0\n"
          ],
          "name": "stdout"
        }
      ]
    },
    {
      "cell_type": "code",
      "metadata": {
        "id": "vmMPmNQuXdPo",
        "colab_type": "code",
        "colab": {}
      },
      "source": [
        "def joinPDF():\n",
        "  try:\n",
        "    from PyPDF2 import PdfFileMerger\n",
        "  except ImportError:\n",
        "    print(\"Could not import PyPDF2\")\n",
        "  \n",
        "  nome = None\n",
        "  pdfs = []\n",
        "\n",
        "  while nome != \"0\":\n",
        "    nome = input(\"Type the name of the file without the .pdf ending or enter 0 to finish: \")\n",
        "    if str(nome) == \"0\":\n",
        "      break\n",
        "    nome = nome+\".pdf\"\n",
        "    pdfs.append(nome)\n",
        "    print(\"%d Files already loaded: \"%(len(pdfs)))\n",
        "    for el in pdfs:\n",
        "      print(el,end=\", \")\n",
        "\n",
        "  merger = PdfFileMerger()\n",
        "  for pdf in pdfs:\n",
        "      merger.append(pdf)\n",
        "\n",
        "  merger.write(\"result.pdf\")\n",
        "  merger.close()\n",
        "  print(\"Finished\")"
      ],
      "execution_count": 15,
      "outputs": []
    },
    {
      "cell_type": "code",
      "metadata": {
        "id": "F3hNQ4GLbWHV",
        "colab_type": "code",
        "colab": {
          "base_uri": "https://localhost:8080/",
          "height": 102
        },
        "outputId": "d28a4291-a118-48fd-9cde-c30f9e8d3e66"
      },
      "source": [
        "joinPDF()"
      ],
      "execution_count": 16,
      "outputs": [
        {
          "output_type": "stream",
          "text": [
            "Type the name of the file without the .pdf ending or enter 0 to finish: intro2tf\n",
            "1 Files already loaded: \n",
            "intro2tf.pdf, Type the name of the file without the .pdf ending or enter 0 to finish: intro2tf\n",
            "2 Files already loaded: \n",
            "intro2tf.pdf, intro2tf.pdf, Type the name of the file without the .pdf ending or enter 0 to finish: 0\n"
          ],
          "name": "stdout"
        }
      ]
    }
  ]
}